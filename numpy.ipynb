{
 "nbformat": 4,
 "nbformat_minor": 2,
 "metadata": {
  "language_info": {
   "name": "python",
   "codemirror_mode": {
    "name": "ipython",
    "version": 3
   },
   "version": "3.8.2-final"
  },
  "orig_nbformat": 2,
  "file_extension": ".py",
  "mimetype": "text/x-python",
  "name": "python",
  "npconvert_exporter": "python",
  "pygments_lexer": "ipython3",
  "version": 3,
  "kernelspec": {
   "name": "python38264bita4803897b31740fe83109f6126b9fe02",
   "display_name": "Python 3.8.2 64-bit"
  }
 },
 "cells": [
  {
   "cell_type": "code",
   "execution_count": 11,
   "metadata": {},
   "outputs": [],
   "source": [
    "import numpy as np"
   ]
  },
  {
   "cell_type": "markdown",
   "metadata": {},
   "source": [
    "`numpy.loadtxt(fname, dtype=, comments='#', delimiter=None, converters=None, skiprows=0, usecols=None, unpack=False, ndmin=0)`\n",
    "\n",
    "`dtype`:数据类型，为int,float等\n",
    "\n",
    "`comments`:指定文件以什么注释\n",
    "\n",
    "`delimiter`:指定数据之间以什么符号分割\n",
    "\n",
    "`skiprows`:跳过前几行\n",
    "\n",
    "`usecols`:使用指定列\n",
    "\n",
    "`unpack`:把每一列当成一个向量输出, 而不是合并在一起。"
   ],
   "execution_count": null,
   "outputs": []
  },
  {
   "cell_type": "code",
   "execution_count": 12,
   "metadata": {},
   "outputs": [
    {
     "output_type": "stream",
     "name": "stdout",
     "text": "Overwriting test.txt\n"
    }
   ],
   "source": [
    "%%writefile test.txt\n",
    "A B C\n",
    "1, 2, 3\n",
    "# AA AAA\n",
    "4, 5, 6\n",
    "7, 8, 9"
   ]
  },
  {
   "cell_type": "code",
   "execution_count": 13,
   "metadata": {},
   "outputs": [
    {
     "output_type": "stream",
     "name": "stdout",
     "text": "[[1 2 3]\n [4 5 6]\n [7 8 9]]\n"
    }
   ],
   "source": [
    "a = np.loadtxt('test.txt', dtype=int, delimiter=',', skiprows=1, comments='#')\n",
    "print(a)"
   ]
  },
  {
   "cell_type": "code",
   "execution_count": 14,
   "metadata": {},
   "outputs": [
    {
     "output_type": "stream",
     "name": "stdout",
     "text": "[1 4 7] [3 6 9]\n"
    }
   ],
   "source": [
    "(a, b) = np.loadtxt('test.txt', dtype=int, skiprows=1, comments='#', delimiter=',', usecols=(0, 2), unpack=True)\n",
    "print(a, b)"
   ]
  },
  {
   "cell_type": "markdown",
   "metadata": {},
   "source": [
    "最后介绍converters参数, 这个是对数据进行预处理的参数, 我们可以先定义一个函数， 这里的converters是一个字典, 表示第零列使用函数add_one来进行预处理"
   ]
  },
  {
   "cell_type": "code",
   "execution_count": 16,
   "metadata": {},
   "outputs": [
    {
     "output_type": "stream",
     "name": "stdout",
     "text": "[2 5 8] [3 6 9]\n"
    }
   ],
   "source": [
    "def add_one(x):\n",
    "    return int(x)+1#注意到这里使用的字符的数据结构\n",
    "    \n",
    "(a, b) = np.loadtxt('test.txt', dtype=int, skiprows=1, converters={0:add_one}, comments='#', delimiter=',', usecols=(0, 2), unpack=True)\n",
    "print(a, b)"
   ]
  }
 ]
}